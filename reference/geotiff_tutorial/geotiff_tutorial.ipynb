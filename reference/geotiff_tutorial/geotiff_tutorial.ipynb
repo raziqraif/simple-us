{
 "cells": [
  {
   "cell_type": "markdown",
   "metadata": {},
   "source": [
    "# Visualizing a .tif/.tiff file"
   ]
  },
  {
   "cell_type": "markdown",
   "metadata": {},
   "source": [
    "This will be a short tutorial showing you how to code a program to view a .tif/.tiff file"
   ]
  },
  {
   "cell_type": "code",
   "execution_count": 1,
   "metadata": {},
   "outputs": [],
   "source": [
    "import os, sys\n",
    "from osgeo import ogr, osr, gdal\n",
    "from ipyleaflet import Map, ImageOverlay, TileLayer, LayersControl, WMSLayer\n",
    "import ipywidgets as ipyw\n",
    "from notebook import notebookapp"
   ]
  },
  {
   "cell_type": "code",
   "execution_count": 2,
   "metadata": {},
   "outputs": [],
   "source": [
    "# create a dictionary that will contain all the layers along with the file path to the image they display\n",
    "layer_names = {}\n",
    "\n",
    "# single-banded raster\n",
    "# tmp_file_path = os.path.abspath('./BearCk.tif')\n",
    "\n",
    "# multi-banded raster. When viewing this, be sure to wait and select the checkboxes when they appear\n",
    "tmp_file_path = os.path.abspath('./canaryislands_tmo_2013166_geo.tif')\n",
    "\n",
    "file_name = tmp_file_path.split('/')[-1].split('.tif')[0]\n",
    "tile_folder_path = os.path.dirname(tmp_file_path) + '/'"
   ]
  },
  {
   "cell_type": "code",
   "execution_count": 3,
   "metadata": {},
   "outputs": [
    {
     "data": {
      "text/plain": [
       "'select which bands you want to visualize'"
      ]
     },
     "metadata": {},
     "output_type": "display_data"
    },
    {
     "data": {
      "application/vnd.jupyter.widget-view+json": {
       "model_id": "bbeee0aaae8241d19179f7169bdeb85e",
       "version_major": 2,
       "version_minor": 0
      },
      "text/plain": [
       "VBox(children=(VBox(children=(Checkbox(value=False, description='1'), Checkbox(value=False, description='2'), …"
      ]
     },
     "metadata": {},
     "output_type": "display_data"
    }
   ],
   "source": [
    "# opens the file up to read\n",
    "raster = gdal.Open(tmp_file_path)\n",
    "\n",
    "# precautionary measure to ensure that the file that was uploaded was in the correct projection\n",
    "# raster = gdal.Warp('./' + file_name + '_temp.tif', tmp_file_path, dstSRS=\"EPSG:4326\", resampleAlg='bilinear')\n",
    "\n",
    "# extracts the extents of the image from the file\n",
    "file_path = os.path.abspath('./' + file_name + '_temp.tif')\n",
    "x_min = raster.GetGeoTransform()[0]\n",
    "x_max = x_min + raster.GetGeoTransform()[1]*raster.RasterXSize\n",
    "y_max = raster.GetGeoTransform()[3]\n",
    "y_min = y_max - abs(raster.GetGeoTransform()[5])*raster.RasterYSize\n",
    "\n",
    "# sometimes the tiler ends up creating a folder that shouldn't be created when generating tiles for a geotiff that covers\n",
    "# the entire map. The folder that ends up being created is a negative zoom level. The tiler program automatically defaults\n",
    "# to generating zoom levels 0-3 for such a file anyway so this is just insurance in case there was the possibility of a\n",
    "# negative zoom level\n",
    "min_zoom_level=0\n",
    "max_zoom_level=0\n",
    "if x_max - x_min > 180 or y_max - y_min > 90:\n",
    "    min_zoom_level=0\n",
    "    max_zoom_level=3\n",
    "        \n",
    "# stores all the bands contained in the raster into a dictionary and associates a checkbox widget with each band\n",
    "# this allows us to select which bands of the raster we want to put on the map\n",
    "bands_dict = {}\n",
    "if raster.RasterCount > 1: # when the raster has more than 1 band\n",
    "    options = [];\n",
    "    for band in range( raster.RasterCount ):\n",
    "        band += 1\n",
    "        bands_dict[str(band)] = ipyw.Checkbox(description=str(band), value=False)\n",
    "        options.append(bands_dict[str(band)])\n",
    "    options_widget = ipyw.VBox(options, layout={'overflow': 'scroll'})\n",
    "    multi_select = ipyw.VBox([options_widget])\n",
    "    display('select which bands you want to visualize')\n",
    "    display(multi_select)\n",
    "else: # when the raster has only one band\n",
    "    bands_dict['1'] = 1"
   ]
  },
  {
   "cell_type": "code",
   "execution_count": 4,
   "metadata": {},
   "outputs": [
    {
     "name": "stdout",
     "output_type": "stream",
     "text": [
      "Wall time: 0 ns\n"
     ]
    }
   ],
   "source": [
    "%%time\n",
    "\n",
    "# gets all the checked bands\n",
    "selected_bands = []\n",
    "if len(bands_dict) == 1:\n",
    "    selected_bands = [1]\n",
    "else:\n",
    "    selected_bands = [int(k) for k, v in bands_dict.items() if v.value]\n",
    "\n",
    "\n",
    "# iterates through all the checked bands and creates directories for each band to store the tiles. creates the tiles using the zoom levels generated from above\n",
    "zoom = 0\n",
    "for band in selected_bands:\n",
    "    layer_names[file_name + '_band_' + str(band)] = file_path + \";\" + tile_folder_path + file_name + '_band_' + str(band)\n",
    "    if not os.path.exists(tile_folder_path + file_name + '_band_' + str(band)):\n",
    "        os.mkdir(tile_folder_path + file_name + '_band_' + str(band))\n",
    "    gdal.Translate('./output' + str(band) + '.vrt', file_path, bandList=[band], outputSRS='EPSG:4326')\n",
    "    if not os.path.exists('./output'):\n",
    "        gdal.Translate('./output' + str(band) + '.vrt', file_path, bandList=[band], outputSRS='EPSG:4326', rgbExpand='rgba') \n",
    "    \n",
    "    if not min_zoom_level == max_zoom_level: \n",
    "        cmd = 'gdal2tiles.py -e -z ' + str(min_zoom_level) + '-' + str(max_zoom_level) + ' -a 0,0,0 ./output' + str(band) + '.vrt ' + tile_folder_path + file_name + '_band_' + str(band)\n",
    "    else:\n",
    "        cmd = 'gdal2tiles.py -e -a 0,0,0 ./output' + str(band) + '.vrt ' + tile_folder_path + file_name + '_band_' + str(band)\n",
    "\n",
    "    if os.system(cmd) == 0:\n",
    "        display(file_name + '_band_' + str(band) + ' tiles were successfully created')\n",
    "    else:\n",
    "        display('failure on creating ' + file_name + '_band_' + str(band) + ' tiles')\n",
    "    \n",
    "    os.remove('./output' + str(band) + '.vrt')\n",
    "    \n",
    "    for root, directory, files in os.walk(tile_folder_path + file_name + '_band_' + str(band)):\n",
    "        zoom = directory[-1]\n",
    "        break"
   ]
  },
  {
   "cell_type": "code",
   "execution_count": 5,
   "metadata": {},
   "outputs": [
    {
     "ename": "KeyError",
     "evalue": "'SESSION'",
     "output_type": "error",
     "traceback": [
      "\u001b[1;31m---------------------------------------------------------------------------\u001b[0m",
      "\u001b[1;31mKeyError\u001b[0m                                  Traceback (most recent call last)",
      "\u001b[1;32m<ipython-input-5-8c88bb383fa6>\u001b[0m in \u001b[0;36m<module>\u001b[1;34m\u001b[0m\n\u001b[0;32m      2\u001b[0m \u001b[0mbase_url\u001b[0m \u001b[1;33m=\u001b[0m \u001b[1;34m\"https://proxy.mygeohub.org\"\u001b[0m\u001b[1;33m\u001b[0m\u001b[1;33m\u001b[0m\u001b[0m\n\u001b[0;32m      3\u001b[0m \u001b[0mnb\u001b[0m \u001b[1;33m=\u001b[0m \u001b[1;32mNone\u001b[0m\u001b[1;33m\u001b[0m\u001b[1;33m\u001b[0m\u001b[0m\n\u001b[1;32m----> 4\u001b[1;33m \u001b[0msession\u001b[0m \u001b[1;33m=\u001b[0m \u001b[0mos\u001b[0m\u001b[1;33m.\u001b[0m\u001b[0menviron\u001b[0m\u001b[1;33m[\u001b[0m\u001b[1;34m'SESSION'\u001b[0m\u001b[1;33m]\u001b[0m\u001b[1;33m\u001b[0m\u001b[1;33m\u001b[0m\u001b[0m\n\u001b[0m\u001b[0;32m      5\u001b[0m \u001b[0mservers\u001b[0m \u001b[1;33m=\u001b[0m \u001b[0mlist\u001b[0m\u001b[1;33m(\u001b[0m\u001b[0mnotebookapp\u001b[0m\u001b[1;33m.\u001b[0m\u001b[0mlist_running_servers\u001b[0m\u001b[1;33m(\u001b[0m\u001b[1;33m)\u001b[0m\u001b[1;33m)\u001b[0m\u001b[1;33m\u001b[0m\u001b[1;33m\u001b[0m\u001b[0m\n\u001b[0;32m      6\u001b[0m \u001b[1;32mfor\u001b[0m \u001b[0mserver\u001b[0m \u001b[1;32min\u001b[0m \u001b[0mservers\u001b[0m\u001b[1;33m:\u001b[0m\u001b[1;33m\u001b[0m\u001b[1;33m\u001b[0m\u001b[0m\n",
      "\u001b[1;32m~\\anaconda3\\envs\\simple-us-lab\\lib\\os.py\u001b[0m in \u001b[0;36m__getitem__\u001b[1;34m(self, key)\u001b[0m\n\u001b[0;32m    677\u001b[0m         \u001b[1;32mexcept\u001b[0m \u001b[0mKeyError\u001b[0m\u001b[1;33m:\u001b[0m\u001b[1;33m\u001b[0m\u001b[1;33m\u001b[0m\u001b[0m\n\u001b[0;32m    678\u001b[0m             \u001b[1;31m# raise KeyError with the original key value\u001b[0m\u001b[1;33m\u001b[0m\u001b[1;33m\u001b[0m\u001b[1;33m\u001b[0m\u001b[0m\n\u001b[1;32m--> 679\u001b[1;33m             \u001b[1;32mraise\u001b[0m \u001b[0mKeyError\u001b[0m\u001b[1;33m(\u001b[0m\u001b[0mkey\u001b[0m\u001b[1;33m)\u001b[0m \u001b[1;32mfrom\u001b[0m \u001b[1;32mNone\u001b[0m\u001b[1;33m\u001b[0m\u001b[1;33m\u001b[0m\u001b[0m\n\u001b[0m\u001b[0;32m    680\u001b[0m         \u001b[1;32mreturn\u001b[0m \u001b[0mself\u001b[0m\u001b[1;33m.\u001b[0m\u001b[0mdecodevalue\u001b[0m\u001b[1;33m(\u001b[0m\u001b[0mvalue\u001b[0m\u001b[1;33m)\u001b[0m\u001b[1;33m\u001b[0m\u001b[1;33m\u001b[0m\u001b[0m\n\u001b[0;32m    681\u001b[0m \u001b[1;33m\u001b[0m\u001b[0m\n",
      "\u001b[1;31mKeyError\u001b[0m: 'SESSION'"
     ]
    }
   ],
   "source": [
    "# intermediary in generating the url to get where the tiles are stored\n",
    "base_url = \"https://proxy.mygeohub.org\"\n",
    "nb = None\n",
    "session = os.environ['SESSION']\n",
    "servers = list(notebookapp.list_running_servers())\n",
    "for server in servers:\n",
    "    if session in server['base_url']:\n",
    "        nb = server['base_url']\n",
    "        nb_dir = server['notebook_dir']\n",
    "        break\n",
    "\n",
    "cwd = os.getcwd()\n",
    "if 'notebooks/' in cwd: \n",
    "    bin_path = '/' + cwd.split('notebooks/')[1]\n",
    "    if 'notebooks' not in nb_dir:\n",
    "        bin_path = '/notebooks' + bin_path\n",
    "else:\n",
    "    bin_path = ''"
   ]
  },
  {
   "cell_type": "code",
   "execution_count": 9,
   "metadata": {},
   "outputs": [
    {
     "name": "stdout",
     "output_type": "stream",
     "text": [
      "C:\\Users\\muhdr\\Documents\\simple-us\\data\\geotiff_tutorial/\n",
      "http://localhost:8889//files//data//geotiff_tutorial/canaryislands_tmo_2013166_geo.tif\n"
     ]
    },
    {
     "data": {
      "application/vnd.jupyter.widget-view+json": {
       "model_id": "0e8737ff16e94b3a8139d962011ed309",
       "version_major": 2,
       "version_minor": 0
      },
      "text/plain": [
       "Map(center=[27.79909851935055, -15.998750590811774], controls=(ZoomControl(options=['position', 'zoom_in_text'…"
      ]
     },
     "metadata": {},
     "output_type": "display_data"
    }
   ],
   "source": [
    "# creates an ipyleaflet map with the center at the origin of the file\n",
    "m = Map(center = [(y_max + y_min)/2, (x_min + x_max)/2],\n",
    "        zoom = int(zoom),\n",
    "        scroll_wheel_zoom = True)\n",
    "#         scroll_wheel_zoom = True,\n",
    "#         crs = 'EPSG4326')\n",
    "layer_cont = LayersControl()\n",
    "m.add_control(layer_cont)\n",
    "\n",
    "# iterates through all the layers added and creates tile layers for them. adds each tile layer to the map\n",
    "# for k in layer_names:\n",
    "#     print(base_url, nb, tile_folder_path)\n",
    "#     url = base_url + nb + 'tree' + tile_folder_path.split(os.path.expanduser('~'))[-1] + k + '/{z}/{x}/{-y}.png'\n",
    "#     test_layer = TileLayer(url = url, opacity=.75, name=k)\n",
    "#     m.add_layer(test_layer)\n",
    "print(tile_folder_path)\n",
    "# url =  tile_folder_path.split(os.path.expanduser('~'))[-1] + k + '/{z}/{x}/{-y}.png'\n",
    "url = \"http://localhost:8889//files//data//geotiff_tutorial/canaryislands_tmo_2013166_geo.tif\"\n",
    "print(url)\n",
    "test_layer = TileLayer(url = url, opacity=.75, name=\"canaryislands_tmo_2013166_geo.tif\")\n",
    "m.add_layer(test_layer)\n",
    "display(m)"
   ]
  },
  {
   "cell_type": "code",
   "execution_count": 16,
   "metadata": {},
   "outputs": [
    {
     "ename": "NameError",
     "evalue": "name 'm' is not defined",
     "output_type": "error",
     "traceback": [
      "\u001b[1;31m---------------------------------------------------------------------------\u001b[0m",
      "\u001b[1;31mNameError\u001b[0m                                 Traceback (most recent call last)",
      "\u001b[1;32m<ipython-input-16-3a47a446ba15>\u001b[0m in \u001b[0;36m<module>\u001b[1;34m\u001b[0m\n\u001b[0;32m     16\u001b[0m                 \u001b[0mmessage\u001b[0m \u001b[1;33m+=\u001b[0m \u001b[0mm\u001b[0m\u001b[1;33m.\u001b[0m\u001b[0mlayers\u001b[0m\u001b[1;33m[\u001b[0m\u001b[0mi\u001b[0m\u001b[1;33m]\u001b[0m\u001b[1;33m.\u001b[0m\u001b[0mname\u001b[0m \u001b[1;33m+\u001b[0m \u001b[1;34m' value = '\u001b[0m \u001b[1;33m+\u001b[0m \u001b[0mvalue\u001b[0m\u001b[1;33m\u001b[0m\u001b[1;33m\u001b[0m\u001b[0m\n\u001b[0;32m     17\u001b[0m         \u001b[0mbox\u001b[0m\u001b[1;33m.\u001b[0m\u001b[0mvalue\u001b[0m \u001b[1;33m=\u001b[0m \u001b[0mmessage\u001b[0m\u001b[1;33m\u001b[0m\u001b[1;33m\u001b[0m\u001b[0m\n\u001b[1;32m---> 18\u001b[1;33m \u001b[0mm\u001b[0m\u001b[1;33m.\u001b[0m\u001b[0mon_interaction\u001b[0m\u001b[1;33m(\u001b[0m\u001b[0mmouse_event\u001b[0m\u001b[1;33m)\u001b[0m\u001b[1;33m\u001b[0m\u001b[1;33m\u001b[0m\u001b[0m\n\u001b[0m",
      "\u001b[1;31mNameError\u001b[0m: name 'm' is not defined"
     ]
    }
   ],
   "source": [
    "# creates an ipywidget text area which will be where the coordinate and raster information will be stored. \n",
    "# creates a handler for mouse clicks which returns the coordinates and also prints the value of the raster\n",
    "# on each band to the ipywidget text area\n",
    "box = ipyw.Textarea(layout=ipyw.Layout(width='100%', height='100px'))\n",
    "temp = []\n",
    "def mouse_event(**kwargs):\n",
    "    if kwargs.get('type') == 'click':\n",
    "        message = 'coordinates = ' + str(kwargs.get('coordinates')) + '\\n\\n'\n",
    "        temp.clear()\n",
    "        temp.append(kwargs.get('coordinates'))\n",
    "        for i in range(len(m.layers)):\n",
    "            if not m.layers[i].name == '':\n",
    "                value = os.popen(\"gdallocationinfo -valonly -b \" + m.layers[i].name.split('_band_')[-1] \n",
    "                                 + \" -wgs84 \" + layer_names[m.layers[i].name].split(';')[0]\n",
    "                                 + \" \" + str(temp[0][1]) + \" \" + str(temp[0][0])).read()\n",
    "                message += m.layers[i].name + ' value = ' + value\n",
    "        box.value = message\n",
    "m.on_interaction(mouse_event)"
   ]
  },
  {
   "cell_type": "code",
   "execution_count": 17,
   "metadata": {},
   "outputs": [
    {
     "data": {
      "application/vnd.jupyter.widget-view+json": {
       "model_id": "e09583d6a75a43fdbc9004268ac7a033",
       "version_major": 2,
       "version_minor": 0
      },
      "text/plain": [
       "Textarea(value='', layout=Layout(height='100px', width='100%'))"
      ]
     },
     "metadata": {},
     "output_type": "display_data"
    },
    {
     "ename": "NameError",
     "evalue": "name 'm' is not defined",
     "output_type": "error",
     "traceback": [
      "\u001b[1;31m---------------------------------------------------------------------------\u001b[0m",
      "\u001b[1;31mNameError\u001b[0m                                 Traceback (most recent call last)",
      "\u001b[1;32m<ipython-input-17-f4a0fb93c107>\u001b[0m in \u001b[0;36m<module>\u001b[1;34m\u001b[0m\n\u001b[0;32m      1\u001b[0m \u001b[0mdisplay\u001b[0m\u001b[1;33m(\u001b[0m\u001b[0mbox\u001b[0m\u001b[1;33m)\u001b[0m\u001b[1;33m\u001b[0m\u001b[1;33m\u001b[0m\u001b[0m\n\u001b[1;32m----> 2\u001b[1;33m \u001b[0mdisplay\u001b[0m\u001b[1;33m(\u001b[0m\u001b[0mm\u001b[0m\u001b[1;33m)\u001b[0m\u001b[1;33m\u001b[0m\u001b[1;33m\u001b[0m\u001b[0m\n\u001b[0m",
      "\u001b[1;31mNameError\u001b[0m: name 'm' is not defined"
     ]
    }
   ],
   "source": [
    "display(box)\n",
    "display(m)"
   ]
  },
  {
   "cell_type": "code",
   "execution_count": null,
   "metadata": {},
   "outputs": [],
   "source": [
    "# for visualizing a geotiff on your computer, try using this to upload the file onto jupyter notebook\n",
    "\n",
    "\n",
    "# from hublib.ui import FileUpload\n",
    "\n",
    "# def done(w, files):\n",
    "#     display(\"{} was uploaded\".format(files))\n",
    "\n",
    "# # uploads the file to the server\n",
    "\n",
    "# f = FileUpload(\"Select .tif or .tiff file\",\n",
    "#                \"Upload File\",\n",
    "#                cb = done,\n",
    "#                maxsize = '500M'\n",
    "#               )\n",
    "# f\n",
    "\n",
    "# and then use this to get the tmp_file_path, file_name, and tile_folder_path\n",
    "\n",
    "# tmp_file_path = os.path.abspath(f.list()[0])\n",
    "# file_name = f.list()[0].split('/')[-1].split('.tif')[0]\n",
    "# tile_folder_path = os.path.dirname(tmp_file_path) + '/'"
   ]
  }
 ],
 "metadata": {
  "kernelspec": {
   "display_name": "Python 3",
   "language": "python",
   "name": "python3"
  },
  "language_info": {
   "codemirror_mode": {
    "name": "ipython",
    "version": 3
   },
   "file_extension": ".py",
   "mimetype": "text/x-python",
   "name": "python",
   "nbconvert_exporter": "python",
   "pygments_lexer": "ipython3",
   "version": "3.7.6"
  }
 },
 "nbformat": 4,
 "nbformat_minor": 4
}
