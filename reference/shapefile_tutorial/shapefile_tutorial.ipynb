{
 "cells": [
  {
   "cell_type": "markdown",
   "metadata": {},
   "source": [
    "# Visualizing a Shapefile"
   ]
  },
  {
   "cell_type": "markdown",
   "metadata": {},
   "source": [
    "This will be a short tutorial showing you how to code a program to view your own shapefile"
   ]
  },
  {
   "cell_type": "code",
   "execution_count": 3,
   "metadata": {},
   "outputs": [],
   "source": [
    "import os, sys\n",
    "import ipywidgets as ipyw\n",
    "from osgeo import ogr, osr\n",
    "from ipyleaflet import Map, GeoJSON\n",
    "import zipfile\n",
    "import shapely.wkt\n",
    "import geojson"
   ]
  },
  {
   "cell_type": "code",
   "execution_count": 16,
   "metadata": {},
   "outputs": [],
   "source": [
    "# file path of the shapefile\n",
    "\n",
    "# polygon geometry shapefile\n",
    "zip_file = os.path.abspath('./ne_10m_admin_0_boundary_lines_land.zip')\n",
    "shape_name = \"ne_110m_admin_0_countries\"\n",
    "\n",
    "# line geometry shapefile\n",
    "# zip_file = os.path.abspath('./ne_10m_admin_0_boundary_lines_land.zip')\n",
    "# shape_name = \"ne_10m_admin_0_boundary_lines_land\"\n",
    "\n",
    "folder_path = os.path.dirname(zip_file)\n",
    "\n",
    "# unzips shapefile and extracts the files to the current directory.\n",
    "with zipfile.ZipFile(zip_file, 'r') as f:\n",
    "    f.extractall(folder_path)\n",
    "\n",
    "folder_path += \"/\" + shape_name # path containing unzipped files"
   ]
  },
  {
   "cell_type": "markdown",
   "metadata": {},
   "source": [
    "This is where we actually do the work to render the image. To accomplish that, we use the library osgeo. ogr and osr are derived from osgeo. ogr and osr deal with the vector data inside of the shape file. "
   ]
  },
  {
   "cell_type": "code",
   "execution_count": 17,
   "metadata": {},
   "outputs": [
    {
     "data": {
      "text/plain": [
       "3"
      ]
     },
     "metadata": {},
     "output_type": "display_data"
    }
   ],
   "source": [
    "# opens the file and extracts a layer from it\n",
    "driver = ogr.GetDriverByName('ESRI Shapefile')\n",
    "data_source = driver.Open(folder_path + '/' + shape_name + '.shp', 0)\n",
    "layer = data_source.GetLayer()\n",
    "\n",
    "# tells us the type of objects contained in the shapefile. 1 is points, 2 is lines, 3 is polygons\n",
    "shape_type = layer.GetGeomType()\n",
    "display(shape_type)"
   ]
  },
  {
   "cell_type": "markdown",
   "metadata": {},
   "source": [
    "The next important thing to deal with are possible different spatial references. Depending on where the data was gathered or from where it was extracted, the spatial reference of the shapefile might not be optimal for our purposes. It is important to know which spatial reference was used because if the spatial reference system used in the shapefile is different from the spatial reference we are using for the map, we most likely will end up with a different result than we were expecting. Many things could go wrong such as the coordinates are completely off or that the data is completely misaligned. By transforming the spatial reference to the one we want, we avoid that problem."
   ]
  },
  {
   "cell_type": "code",
   "execution_count": 18,
   "metadata": {},
   "outputs": [],
   "source": [
    "# gets all the spatial references to analyze the data and applies them to a transformed coordinate system\n",
    "# inner_spatial_reference is the source projection and outer_spatial_reference is the target projection\n",
    "# in our case, we are changing the spatial reference to the WGS84 projection\n",
    "inner_spatial_reference = layer.GetSpatialRef()\n",
    "outer_spatial_reference = osr.SpatialReference()\n",
    "outer_spatial_reference.ImportFromWkt(\n",
    "    'GEOGCS[\"WGS 84\",DATUM[\"WGS_1984\",SPHEROID[\"WGS 84\",6378137,298.257223563,AUTHORITY[\"EPSG\",\"7030\"]],AUTHORITY[\"EPSG\",\"6326\"]],PRIMEM[\"Greenwich\",0,AUTHORITY[\"EPSG\",\"8901\"]],UNIT[\"degree\",0.0174532925199433,AUTHORITY[\"EPSG\",\"9122\"]],AUTHORITY[\"EPSG\",\"4326\"]]'\n",
    ")\n",
    "transform = osr.CoordinateTransformation(inner_spatial_reference, outer_spatial_reference)\n",
    "\n",
    "# these are just placeholders to make information dumping easier. they will be used to store the individual\n",
    "# feature properties and information in the shapefile\n",
    "shapes = []\n",
    "feature_collection = None\n",
    "\n",
    "# these are here to make the visualization better. all they are used for is to create our own bounds so that all\n",
    "# the information is visible when the map is rendered\n",
    "x_min = sys.float_info.max\n",
    "x_max = -sys.float_info.max\n",
    "y_min = sys.float_info.max\n",
    "y_max = -sys.float_info.max\n",
    "\n",
    "# iterates through the opened layer to get all the feature headings. it's kind of like the keys\n",
    "# in a dictionary or the fieldnames of a csv file. we're storing those into field_list\n",
    "field_list = []\n",
    "for i in range(layer.GetLayerDefn().GetFieldCount()):\n",
    "    field_list.append(layer.GetLayerDefn().GetFieldDefn(i).GetName())"
   ]
  },
  {
   "cell_type": "markdown",
   "metadata": {},
   "source": [
    "Think of this next part as kind of a word search game. On the paper, there are a lot of different words to find. That's what's going on here. Inside the layer that we got from the file, we need to extract the features that are in it. Each feature is unique and has it's own properties. "
   ]
  },
  {
   "cell_type": "code",
   "execution_count": 19,
   "metadata": {},
   "outputs": [],
   "source": [
    "# the layer contains multiple features. we need to iterate over all of them to completely extract all the data\n",
    "for feature in layer:\n",
    "\n",
    "    # this iterates through all the properties of that feature and stores it into a dictionary using field_list\n",
    "    props = {}\n",
    "    for i in range(len(field_list)):\n",
    "        props[field_list[i]] = str(feature.GetField(field_list[i]))\n",
    "\n",
    "    # each feature corresponds to an object. this gives us that object reference and then transforms it to the \n",
    "    # coordinate system\n",
    "    pt = feature.GetGeometryRef()\n",
    "    pt.Transform(transform)\n",
    "    \n",
    "    # gives us our boundaries \n",
    "    (temp_x_min, temp_x_max, temp_y_min, temp_y_max) = pt.GetEnvelope()\n",
    "    if temp_x_min < x_min: x_min = temp_x_min\n",
    "    if temp_x_max > x_max: x_max = temp_x_max\n",
    "    if temp_y_min < y_min: y_min = temp_y_min\n",
    "    if temp_y_max > y_max: y_max = temp_y_max\n",
    "    \n",
    "    # actually what we will eventually use to draw the shape on the map. this adds the shapefile information\n",
    "    # to a geojson file\n",
    "    polygon = shapely.wkt.loads(pt.ExportToWkt())\n",
    "    geoJSON = geojson.Feature(geometry=polygon, properties=props)\n",
    "    \n",
    "    shapes.append(geoJSON)\n",
    "    \n",
    "# compiles the features extracted above into a collection of features ready for dumping the information\n",
    "# into a geojson file\n",
    "feature_collection = geojson.FeatureCollection(shapes)"
   ]
  },
  {
   "cell_type": "markdown",
   "metadata": {},
   "source": [
    "Now to create the map"
   ]
  },
  {
   "cell_type": "code",
   "execution_count": 20,
   "metadata": {},
   "outputs": [],
   "source": [
    "# creates the map\n",
    "m = Map(center = ((y_min+y_max)/2, (x_min+x_max)/2), zoom = 4, scroll_wheel_zoom = True)\n",
    "\n",
    "# creates the widget that displays the shapefile information\n",
    "box = ipyw.Textarea(layout=ipyw.Layout(width='100%', height='100px'))\n",
    "\n",
    "# on click listener\n",
    "def shape_click(**kwargs):\n",
    "    message = ''\n",
    "    for key in kwargs['properties']:\n",
    "        if not type(kwargs['properties'][key]) == 'dict':\n",
    "            message += key + ' = ' + str(kwargs['properties'][key]) + '\\n'\n",
    "    box.value = message\n",
    "\n",
    "# adds the shapefile geometry to the ipyleaflet map. styles it such that \n",
    "# on mouse hover, the geometry displays blue, otherwise it remains red\n",
    "geo_json = GeoJSON(data = feature_collection,\n",
    "                    hover_style = {'fillColor': '#3333ff', 'color': '#6666ff', 'weight': 1.5},\n",
    "                    style = {'fillColor': '#ff6666', 'color': '#ff3333', 'weight': 1.5})\n",
    "\n",
    "# adds click listener to geojson shapes\n",
    "geo_json.on_click(shape_click)\n",
    "\n",
    "# adds geojson to the map\n",
    "m.add_layer(geo_json)"
   ]
  },
  {
   "cell_type": "code",
   "execution_count": 21,
   "metadata": {},
   "outputs": [
    {
     "data": {
      "application/vnd.jupyter.widget-view+json": {
       "model_id": "c01847a9b3f147e19e114a05463b1294",
       "version_major": 2,
       "version_minor": 0
      },
      "text/plain": [
       "Textarea(value='', layout=Layout(height='100px', width='100%'))"
      ]
     },
     "metadata": {},
     "output_type": "display_data"
    },
    {
     "data": {
      "application/vnd.jupyter.widget-view+json": {
       "model_id": "65cbb3b4e1ae46868ed3349f4e068f6b",
       "version_major": 2,
       "version_minor": 0
      },
      "text/plain": [
       "Map(center=[-3.1774349999999956, 2.842170943040401e-14], controls=(ZoomControl(options=['position', 'zoom_in_t…"
      ]
     },
     "metadata": {},
     "output_type": "display_data"
    }
   ],
   "source": [
    "display(box)\n",
    "display(m)"
   ]
  },
  {
   "cell_type": "code",
   "execution_count": 22,
   "metadata": {},
   "outputs": [
    {
     "ename": "ModuleNotFoundError",
     "evalue": "No module named 'hublib'",
     "output_type": "error",
     "traceback": [
      "\u001b[1;31m---------------------------------------------------------------------------\u001b[0m",
      "\u001b[1;31mModuleNotFoundError\u001b[0m                       Traceback (most recent call last)",
      "\u001b[1;32m<ipython-input-22-b42991e42671>\u001b[0m in \u001b[0;36m<module>\u001b[1;34m\u001b[0m\n\u001b[0;32m      2\u001b[0m \u001b[1;33m\u001b[0m\u001b[0m\n\u001b[0;32m      3\u001b[0m \u001b[1;32mimport\u001b[0m \u001b[0mshutil\u001b[0m\u001b[1;33m\u001b[0m\u001b[1;33m\u001b[0m\u001b[0m\n\u001b[1;32m----> 4\u001b[1;33m \u001b[1;32mfrom\u001b[0m \u001b[0mhublib\u001b[0m\u001b[1;33m.\u001b[0m\u001b[0mui\u001b[0m \u001b[1;32mimport\u001b[0m \u001b[0mFileUpload\u001b[0m\u001b[1;33m\u001b[0m\u001b[1;33m\u001b[0m\u001b[0m\n\u001b[0m\u001b[0;32m      5\u001b[0m \u001b[1;33m\u001b[0m\u001b[0m\n\u001b[0;32m      6\u001b[0m \u001b[1;31m# # checks to see if there is an existing file. If there is, removes it so that things are simpler\u001b[0m\u001b[1;33m\u001b[0m\u001b[1;33m\u001b[0m\u001b[1;33m\u001b[0m\u001b[0m\n",
      "\u001b[1;31mModuleNotFoundError\u001b[0m: No module named 'hublib'"
     ]
    }
   ],
   "source": [
    "# for uploading your own shapefile onto jupyter notebook, use this\n",
    "\n",
    "# import shutil\n",
    "# from hublib.ui import FileUpload\n",
    "\n",
    "# # checks to see if there is an existing file. If there is, removes it so that things are simpler\n",
    "# # this could be changed so that every time a file is uploaded, it gets placed into a different directory\n",
    "\n",
    "# if os.path.exists(os.getcwd() + '/tmpdir'):\n",
    "#     for file in os.listdir(os.getcwd() + '/tmpdir'):\n",
    "#         temp_file_path = os.path.join(os.getcwd() + '/tmpdir', file)\n",
    "#         if os.path.isfile(temp_file_path):\n",
    "#             os.remove(temp_file_path)\n",
    "#         if os.path.isdir(temp_file_path):\n",
    "#             shutil.rmtree(temp_file_path)\n",
    "\n",
    "    \n",
    "# # done is a callback function that will display which files were uploaded upon completion\n",
    "\n",
    "# def done(w, files):\n",
    "#     display('{} was uploaded'.format(files))\n",
    "\n",
    "# # uploads the file    \n",
    "\n",
    "# f = FileUpload(\"Select zipped shapefile\",\n",
    "#                \"Upload File\",\n",
    "#                cb = done,\n",
    "#                maxsize = '500M'\n",
    "#               )\n",
    "# f\n",
    "\n",
    "# # gets the file path that we will use to extract files and check to see if they are valid or not\n",
    "\n",
    "# zip_path = os.path.abspath(f.list()[0])\n",
    "# folder_path = os.path.dirname(os.path.abspath(f.list()[0]))"
   ]
  },
  {
   "cell_type": "code",
   "execution_count": null,
   "metadata": {},
   "outputs": [],
   "source": []
  }
 ],
 "metadata": {
  "kernelspec": {
   "display_name": "Python 3",
   "language": "python",
   "name": "python3"
  },
  "language_info": {
   "codemirror_mode": {
    "name": "ipython",
    "version": 3
   },
   "file_extension": ".py",
   "mimetype": "text/x-python",
   "name": "python",
   "nbconvert_exporter": "python",
   "pygments_lexer": "ipython3",
   "version": "3.7.6"
  }
 },
 "nbformat": 4,
 "nbformat_minor": 4
}
