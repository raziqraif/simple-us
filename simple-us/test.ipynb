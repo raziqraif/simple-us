{
 "cells": [
  {
   "cell_type": "code",
   "execution_count": 1,
   "metadata": {},
   "outputs": [],
   "source": [
    "%load_ext autoreload\n",
    "%autoreload 2"
   ]
  },
  {
   "cell_type": "code",
   "execution_count": 2,
   "metadata": {},
   "outputs": [
    {
     "data": {
      "application/vnd.jupyter.widget-view+json": {
       "model_id": "6ca53a2d2aa640b5a8112aef0096f83d",
       "version_major": 2,
       "version_minor": 0
      },
      "text/plain": [
       "Output(layout=Layout(border='100px solid black'))"
      ]
     },
     "metadata": {},
     "output_type": "display_data"
    }
   ],
   "source": [
    "import ipywidgets as ipyw\n",
    "out = ipyw.Output(layout={'border': '100px solid black'})\n",
    "out"
   ]
  },
  {
   "cell_type": "code",
   "execution_count": 3,
   "metadata": {},
   "outputs": [
    {
     "data": {
      "application/vnd.jupyter.widget-view+json": {
       "model_id": "5cebc0dd6bbe41279a7682639301b32a",
       "version_major": 2,
       "version_minor": 0
      },
      "text/plain": [
       "HBox(children=(HTML(value='Label:', layout=Layout(width='100px')), WrappedToggles(layout=Layout(width='400px')…"
      ]
     },
     "metadata": {},
     "output_type": "display_data"
    }
   ],
   "source": [
    "import ipywidgets as ipyw\n",
    "\n",
    "label_layout = ipyw.Layout(width='100px')\n",
    "\n",
    "class WrappedToggles(ipyw.HBox):\n",
    "\n",
    "    def __init__(self):\n",
    "        layout = ipyw.Layout(width='400px')\n",
    "        super().__init__(options=['1','2'], layout=layout)\n",
    "\n",
    "    def _ipython_display_(self, **kwargs):\n",
    "        label = 'Label:'\n",
    "        box_label = ipyw.HTML(value=label, layout=label_layout)\n",
    "        children = (box_label, self)\n",
    "        ipyw.HBox(children=children)._ipython_display_()\n",
    "# Can pass to children\n",
    "# Can disable sync and link two widgets together\n",
    "WrappedToggles()"
   ]
  },
  {
   "cell_type": "code",
   "execution_count": null,
   "metadata": {},
   "outputs": [],
   "source": []
  },
  {
   "cell_type": "code",
   "execution_count": 4,
   "metadata": {},
   "outputs": [
    {
     "data": {
      "text/html": [
       "<h1>test</h1>"
      ],
      "text/plain": [
       "<__main__.Shout at 0x2ac7fb45c48>"
      ]
     },
     "execution_count": 4,
     "metadata": {},
     "output_type": "execute_result"
    }
   ],
   "source": [
    "class Shout(object):\n",
    "    def __init__(self, text):\n",
    "        self.text = text\n",
    "\n",
    "    def _repr_html_(self):\n",
    "        return \"<h1>\" + self.text + \"</h1>\"\n",
    "Shout(\"test\")"
   ]
  },
  {
   "cell_type": "code",
   "execution_count": 5,
   "metadata": {},
   "outputs": [
    {
     "data": {
      "application/vnd.jupyter.widget-view+json": {
       "model_id": "6fe0386120a54439a7bb8150df6a8684",
       "version_major": 2,
       "version_minor": 0
      },
      "text/plain": [
       "IntMultipliedDropdown(children=(IntText(value=1), Dropdown(index=2, options=('apple', 'bed', 'cell'), value='c…"
      ]
     },
     "metadata": {},
     "output_type": "display_data"
    }
   ],
   "source": [
    "import re\n",
    "import ipywidgets as ipw\n",
    "from traitlets import Unicode\n",
    "from IPython.display import display\n",
    "\n",
    "\n",
    "class IntMultipliedDropdown(ipw.HBox):\n",
    "    _VALUE_PATTERN = re.compile('(?P<num>\\d+) (?P<option>\\w+-?\\w*)')\n",
    "    value = Unicode()\n",
    "\n",
    "    def __init__(self, options, option_value, int_value=1, **kwargs):\n",
    "        self.number = ipw.IntText(int_value)\n",
    "        self.options = ipw.Dropdown(options=options, value=option_value)\n",
    "\n",
    "        self._update_value()\n",
    "\n",
    "        self.number.observe(self._update_value, names='value')\n",
    "        self.options.observe(self._update_value, names='value')\n",
    "        self.observe(self._update_children, names='value')\n",
    "\n",
    "        super().__init__(children=[self.number, self.options], **kwargs)\n",
    "\n",
    "\n",
    "    def _update_children(self, *args):\n",
    "        match = re.search(self._VALUE_PATTERN, self.value)\n",
    "        groupdict = match.groupdict()\n",
    "        self.number.value = groupdict['num']\n",
    "        self.options.value = groupdict['option']\n",
    "\n",
    "    def _update_value(self, *args):\n",
    "        self.value = \"{} {}\".format(self.number.value, self.options.value)\n",
    "\n",
    "mywidget = IntMultipliedDropdown(['apple', 'bed', 'cell'], 'cell')\n",
    "display(mywidget)"
   ]
  },
  {
   "cell_type": "code",
   "execution_count": 6,
   "metadata": {},
   "outputs": [
    {
     "ename": "ModuleNotFoundError",
     "evalue": "No module named 'matplotlib'",
     "output_type": "error",
     "traceback": [
      "\u001b[1;31m---------------------------------------------------------------------------\u001b[0m",
      "\u001b[1;31mModuleNotFoundError\u001b[0m                       Traceback (most recent call last)",
      "\u001b[1;32m<ipython-input-6-57a2f8f46fa0>\u001b[0m in \u001b[0;36m<module>\u001b[1;34m\u001b[0m\n\u001b[0;32m      4\u001b[0m \u001b[1;32mimport\u001b[0m \u001b[0mnumpy\u001b[0m \u001b[1;32mas\u001b[0m \u001b[0mnp\u001b[0m\u001b[1;33m\u001b[0m\u001b[1;33m\u001b[0m\u001b[0m\n\u001b[0;32m      5\u001b[0m \u001b[1;32mimport\u001b[0m \u001b[0mipywidgets\u001b[0m \u001b[1;32mas\u001b[0m \u001b[0mwidgets\u001b[0m\u001b[1;33m\u001b[0m\u001b[1;33m\u001b[0m\u001b[0m\n\u001b[1;32m----> 6\u001b[1;33m \u001b[1;32mimport\u001b[0m \u001b[0mmatplotlib\u001b[0m\u001b[1;33m.\u001b[0m\u001b[0mpyplot\u001b[0m \u001b[1;32mas\u001b[0m \u001b[0mplt\u001b[0m\u001b[1;33m\u001b[0m\u001b[1;33m\u001b[0m\u001b[0m\n\u001b[0m\u001b[0;32m      7\u001b[0m \u001b[0mget_ipython\u001b[0m\u001b[1;33m(\u001b[0m\u001b[1;33m)\u001b[0m\u001b[1;33m.\u001b[0m\u001b[0mrun_line_magic\u001b[0m\u001b[1;33m(\u001b[0m\u001b[1;34m'matplotlib'\u001b[0m\u001b[1;33m,\u001b[0m \u001b[1;34m'inline'\u001b[0m\u001b[1;33m)\u001b[0m\u001b[1;33m\u001b[0m\u001b[1;33m\u001b[0m\u001b[0m\n\u001b[0;32m      8\u001b[0m \u001b[0mtab\u001b[0m \u001b[1;33m=\u001b[0m \u001b[0mwidgets\u001b[0m\u001b[1;33m.\u001b[0m\u001b[0mTab\u001b[0m\u001b[1;33m(\u001b[0m\u001b[1;33m)\u001b[0m\u001b[1;33m\u001b[0m\u001b[1;33m\u001b[0m\u001b[0m\n",
      "\u001b[1;31mModuleNotFoundError\u001b[0m: No module named 'matplotlib'"
     ]
    }
   ],
   "source": [
    "import pandas as pd\n",
    "import sys\n",
    "from io import StringIO\n",
    "import numpy as np\n",
    "import ipywidgets as widgets\n",
    "import matplotlib.pyplot as plt\n",
    "%matplotlib inline\n",
    "tab = widgets.Tab()    \n",
    "out = widgets.Output(layout={'border': '1px solid black'})\n",
    "up = widgets.FileUpload(accept=\"\", multiple=False)\n",
    "delim = widgets.RadioButtons(\n",
    "    options=[';', ',', ' '],\n",
    "    description='Separator: ',\n",
    "    disabled=False)\n",
    "eraser = widgets.SelectMultiple(\n",
    "    options=['tab','\"'],\n",
    "    value=['tab'],\n",
    "    #rows=10,\n",
    "    description='Eraser: ',\n",
    "    disabled=False)\n",
    "rows = widgets.IntSlider(\n",
    "    value=0,\n",
    "    step=1,\n",
    "    description='# of lines:',\n",
    "    disabled=False,\n",
    "    continuous_update=False,\n",
    "    orientation='horizontal',\n",
    "    readout=True,\n",
    "    readout_format='d')\n",
    "button_upload = widgets.Button(\n",
    "    description='Upload',\n",
    "    disabled=False,\n",
    "    button_style='warning',\n",
    "    tooltip='Click to Upload',\n",
    "    icon='check')\n",
    "button_preview = widgets.Button(\n",
    "    description='Preview',\n",
    "    disabled=False,\n",
    "    button_style='info',\n",
    "    tooltip='Click to Preview',\n",
    "    icon='search')\n",
    "button_plot = widgets.Button(\n",
    "    description='Plot',\n",
    "    disabled=False,\n",
    "    button_style='danger',\n",
    "    tooltip='Click to Plot',\n",
    "    icon='pencil')\n",
    "graph_type = widgets.Dropdown(\n",
    "    options=['Bar Chart', 'Line Chart'],\n",
    "    value='Bar Chart',\n",
    "    description='Chart Type:',\n",
    "    disabled=False)\n",
    "x_axis = widgets.Dropdown(\n",
    "    options=[''],\n",
    "    value='',\n",
    "    description='X-Axis:',\n",
    "    disabled=False)\n",
    "y_axis = widgets.Dropdown(\n",
    "    options=[''],\n",
    "    value='',\n",
    "    description='Y-Axis:',\n",
    "    disabled=False)\n",
    "color_picker = widgets.ColorPicker(\n",
    "    concise=False,\n",
    "    description='Color Picker: ',\n",
    "    value='lightblue',\n",
    "    disabled=False)\n",
    "toggle = widgets.ToggleButtons(\n",
    "    options=['Preview  ', 'Info  ', 'Stats  '],\n",
    "    description='Options',\n",
    "    disabled=False,\n",
    "    button_style='warning',\n",
    "    icons=['search', 'info', 'tachometer'])\n",
    "accordion = widgets.Accordion(children=[\n",
    "    up, \n",
    "    widgets.VBox([delim, eraser]), \n",
    "    rows])\n",
    "accordion.set_title(0, 'File Selection')\n",
    "accordion.set_title(1, 'Delimiter')\n",
    "accordion.set_title(2, 'Skip Rows')\n",
    "accordion_box = widgets.VBox([\n",
    "    accordion, \n",
    "    widgets.HBox([button_preview, button_upload]),\n",
    "    out\n",
    "])\n",
    "children = [\n",
    "    accordion_box, \n",
    "    widgets.VBox([toggle, out]),\n",
    "    widgets.VBox([\n",
    "        widgets.HBox([graph_type, color_picker]),\n",
    "        widgets.HBox([x_axis, y_axis]), \n",
    "        button_plot,\n",
    "        out\n",
    "])]\n",
    "tab.children = children\n",
    "tab.set_title(0, \"Upload\")\n",
    "tab.set_title(1, \"Describer\")\n",
    "tab.set_title(2, \"Plotter\")\n",
    "tab\n",
    "def content_parser():\n",
    "    if up.value == {}:\n",
    "        with out:\n",
    "            print('No CSV loaded')    \n",
    "    else:\n",
    "        typ, content = \"\", \"\"\n",
    "        up_value = up.value\n",
    "        for i in up_value.keys():\n",
    "#             typ = up_value[i][\"metadata\"][\"type\"] if typ == \"text/csv\":\n",
    "            content = up_value[i][\"content\"]\n",
    "            content_str = str(content, 'utf-8')\n",
    "    \n",
    "            if eraser.value != {}: \n",
    "                for val in eraser.value:\n",
    "                    if val == \"tab\":\n",
    "                        content_str = content_str.replace(\"\\t\",\"\")\n",
    "                    else:\n",
    "                        content_str = content_str.replace(val,\"\")\n",
    "            if content_str != \"\":\n",
    "                str_io = StringIO(content_str) \n",
    "                return str_io\n",
    "def df_converter():\n",
    "    content = content_parser()\n",
    "    if content is not None:\n",
    "        df = pd.read_csv(content, sep=delim.value, index_col=False, skiprows=rows.value)    \n",
    "        return df\n",
    "    else:\n",
    "        return None\n",
    "def preview():\n",
    "    df = df_converter()\n",
    "    with out:\n",
    "        out.clear_output()\n",
    "        print('\\n -----Now this is how your DF looks like:----- \\n')\n",
    "        if df is not None:\n",
    "            print(df.head(10))\n",
    "        else:\n",
    "            print('Configuration is wrong/missing...')\n",
    "def upload():\n",
    "    df = df_converter()\n",
    "    with out:\n",
    "        out.clear_output()\n",
    "        print('\\n --------Your uploaded DF looks like:-------- \\n')\n",
    "        if df is not None:\n",
    "            print(df)\n",
    "            x_axis.options = df.columns\n",
    "            y_axis.options = df.columns\n",
    "        else:\n",
    "            print('Configuration is wrong/missing...')\n",
    "def desc():\n",
    "    info_level = toggle.value\n",
    "    if info_level != {}:\n",
    "        df = df_converter()\n",
    "        with out:\n",
    "            out.clear_output()\n",
    "            print('\\n ------Your {} looks like:------ \\n'.format(\n",
    "                info_level))\n",
    "            if df is not None:\n",
    "                if info_level == 'Info  ':\n",
    "                    print(df.info(verbose=True))\n",
    "                elif info_level == 'Stats  ':\n",
    "                    print(df.describe())\n",
    "                elif info_level == 'Preview  ':\n",
    "                    print(df.head(5))\n",
    "                else:\n",
    "                    print('Configuration is wrong/missing...')\n",
    "    \n",
    "    \n",
    "def plot():\n",
    "    graph = graph_type.value\n",
    "    if graph != {}:\n",
    "        df = df_converter()\n",
    "        with out:\n",
    "            out.clear_output()\n",
    "            print('\\n ------Your {} looks like:------ \\n'.format(\n",
    "                graph))\n",
    "            if (df is not None):\n",
    "                df = df.head(5)\n",
    "                height = df[y_axis.value]\n",
    "                bars = df[x_axis.value]\n",
    "                y_pos = np.arange(len(height))\n",
    "                plt.figure(figsize=(10,4))\n",
    "                if graph == 'Bar Chart':\n",
    "                    plt.bar(\n",
    "                        y_pos, \n",
    "                        height, \n",
    "                        color=color_picker.value)\n",
    "                    plt.xticks(y_pos, bars)\n",
    "                elif graph == 'Line Chart':\n",
    "                    plt.plot(\n",
    "                        bars,\n",
    "                        height, \n",
    "                        color=color_picker.value,\n",
    "                        marker='o', \n",
    "                        linestyle='solid'\n",
    "                    )\n",
    "                    plt.xticks(bars)\n",
    "                plt.show()\n",
    "                \n",
    "def preview_clicked(b):\n",
    "    preview()\n",
    "def upload_clicked(b):\n",
    "    upload()\n",
    "def desc_clicked(b):\n",
    "    desc()\n",
    "def plotter_clicked(b):\n",
    "    plot()\n",
    "    \n",
    "button_preview.on_click(preview_clicked)\n",
    "button_upload.on_click(upload_clicked)\n",
    "toggle.observe(desc_clicked, 'value')\n",
    "button_plot.on_click(plotter_clicked)\n",
    "tab"
   ]
  },
  {
   "cell_type": "code",
   "execution_count": null,
   "metadata": {},
   "outputs": [],
   "source": [
    "if 1:\n",
    "    acc = widgets.Accordion(children=[widgets.VBox(layout=widgets.Layout(max_width='610px',\n",
    "                                                                         min_width='610px'))],\n",
    "                            layout=widgets.Layout(width='auto',\n",
    "                                                  max_width='650px',\n",
    "                                                  max_height='500px',\n",
    "                                                  overflow_y='scroll',\n",
    "                                                  overflow_x='hidden'))\n",
    "    acc.set_title(0, 'IBMQ Jobs')\n",
    "    acc.selected_index = None\n",
    "    acc.layout.visibility = 'hidden'\n",
    "    display(acc)\n",
    "    acc._dom_classes = ['job_widget']\n",
    "    display(Javascript(\"\"\"$('div.job_widget')\n",
    "        .detach()\n",
    "        .appendTo($('#header'))\n",
    "        .css({\n",
    "            'z-index': 999,\n",
    "             'position': 'fixed',\n",
    "            'box-shadow': '5px 5px 5px -3px black',\n",
    "            'opacity': 0.95,\n",
    "            'float': 'left,'\n",
    "        })\n",
    "        \"\"\"))\n",
    "    acc.layout.visibility = 'visible'"
   ]
  },
  {
   "cell_type": "code",
   "execution_count": null,
   "metadata": {
    "scrolled": true
   },
   "outputs": [],
   "source": [
    "\n",
    "from IPython.display import Javascript\n",
    "\n",
    "class Test:\n",
    "    def __init__(self):\n",
    "        pass\n",
    "    \n",
    "    def modal_dialog(self,title,body):\n",
    "        data = \"\"\"\n",
    "            require(\n",
    "                [\"base/js/dialog\"],\n",
    "                function(dialog) {\n",
    "                    dialog.modal({\n",
    "                        title: '%s',\n",
    "                        body: '%s',\n",
    "                        sanitize: false,\n",
    "                        buttons: {\n",
    "                            'Close': {}\n",
    "                        }\n",
    "                });\n",
    "            })\n",
    "            \"\"\" % (title,body)\n",
    "        display(Javascript(data=data,css='modal.css'))\n",
    "\n",
    "a = Test()\n",
    "a.modal_dialog(\"test\", \"test\")"
   ]
  },
  {
   "cell_type": "code",
   "execution_count": null,
   "metadata": {},
   "outputs": [],
   "source": [
    "%%javascript     \n",
    "Javascript(data=data,css='modal.css')\n"
   ]
  },
  {
   "cell_type": "code",
   "execution_count": null,
   "metadata": {},
   "outputs": [],
   "source": [
    "%%javascript\n",
    "require(\n",
    "    [\"base/js/dialog\"],\n",
    "    function(dialog) {\n",
    "        dialog.modal({\n",
    "            title: 'test',\n",
    "            body: '<div><button>test</button><div>',\n",
    "            sanitize: false,\n",
    "            buttons: {\n",
    "                'Close': {}\n",
    "            }\n",
    "    });\n",
    "})"
   ]
  },
  {
   "cell_type": "code",
   "execution_count": null,
   "metadata": {},
   "outputs": [],
   "source": [
    "import ipymaterialui as m\n"
   ]
  },
  {
   "cell_type": "code",
   "execution_count": null,
   "metadata": {},
   "outputs": [],
   "source": [
    "m.Chip(label=['hoi'])\n"
   ]
  },
  {
   "cell_type": "code",
   "execution_count": null,
   "metadata": {},
   "outputs": [],
   "source": [
    "statusb = m.Chip(label='-')\n",
    "count = 1\n",
    "def onclick(e, w, d):\n",
    "    global count\n",
    "    count += 1\n",
    "    statusb.label = f'{count}'\n",
    "    \n",
    "button1 = m.Button(color='primary', variant='contained', children='hoi')\n",
    "button1.children=['anders', \"test\"]\n",
    "\n",
    "button1.on_event('onClick', onclick)\n",
    "m.List(children=[button1, statusb])\n"
   ]
  },
  {
   "cell_type": "code",
   "execution_count": null,
   "metadata": {},
   "outputs": [],
   "source": [
    "switch = m.Switch(checked=True)\n",
    "switch\n"
   ]
  },
  {
   "cell_type": "code",
   "execution_count": null,
   "metadata": {},
   "outputs": [],
   "source": [
    "m.Slider(value=10, min=0, max=100)\n"
   ]
  },
  {
   "cell_type": "code",
   "execution_count": null,
   "metadata": {},
   "outputs": [],
   "source": [
    "status = m.Chip(label='-')\n",
    "tg = m.ToggleButtonGroup(value='bliep', exclusive=True, children=[\n",
    "    m.ToggleButton(value='bla', children='bla'),\n",
    "    m.ToggleButton(value='bliep', children='bliep'),\n",
    "    m.ToggleButton(value='foo', children='foo')\n",
    "])\n",
    "\n",
    "def on_t_change(widget, event, data):\n",
    "    status.label=f'{data}'\n",
    "\n",
    "tg.on_event('onChange', on_t_change)\n",
    "    \n",
    "m.List(children=[tg, status])"
   ]
  },
  {
   "cell_type": "code",
   "execution_count": null,
   "metadata": {},
   "outputs": [],
   "source": [
    "status2 = m.Chip(label='-')\n",
    "display(status2)\n",
    "def rg_change(widget, event, data):\n",
    "    status2.label=f'{data}'\n",
    "\n",
    "rg = m.RadioGroup(\n",
    "        name='gender1',\n",
    "        value='male',\n",
    "        children=[\n",
    "            m.FormControlLabel(value='female', control=m.Radio(), label='Female'),\n",
    "            m.FormControlLabel(value='male', control=m.Radio(), label='Male'),\n",
    "            m.FormControlLabel(value='other', control=m.Radio(), label='Other')\n",
    "        ]\n",
    "    )\n",
    "rg.on_event('onChange', rg_change)\n",
    "\n",
    "m.FormControl(component='fieldset', children=[\n",
    "    m.FormLabel(component='legend'),\n",
    "    rg\n",
    "])"
   ]
  },
  {
   "cell_type": "code",
   "execution_count": null,
   "metadata": {},
   "outputs": [],
   "source": [
    "def do_change(widget, event, data):\n",
    "    status3.label=f'{data}'\n",
    "\n",
    "sl = m.Slider(value=10)\n",
    "sl.on_event('onChange', do_change)\n",
    "\n",
    "status3 = m.Chip(label='-')\n",
    "display(status3)\n",
    "\n",
    "m.Grid(container=True, \n",
    "    spacing=2, \n",
    "    children=[\n",
    "        m.Grid(item=True, xs=1, children=m.Icon(children='volume_down')),\n",
    "        m.Grid(item=True, xs=10, children=sl),\n",
    "        m.Grid(item=True, xs=1, children=m.Icon(children='volume_up'))\n",
    "])"
   ]
  },
  {
   "cell_type": "code",
   "execution_count": null,
   "metadata": {},
   "outputs": [],
   "source": []
  },
  {
   "cell_type": "code",
   "execution_count": null,
   "metadata": {},
   "outputs": [],
   "source": [
    "tabContent = ['Item One', 'Item Two', 'Item Three']\n",
    "\n",
    "def on_tab_change(widget, even, data):\n",
    "    index = appBar.children[0].value\n",
    "    tabs.children=[appBar, m.Html(tag='div', style_={'padding': '24px'}, children=tabContent[index])]\n",
    "    \n",
    "tab_header = m.Tabs(value=1, children=[\n",
    "        m.Tab(label='Item One'),\n",
    "        m.Tab(label='Item Two'),\n",
    "        m.Tab(label='Item Three'),\n",
    "    ])    \n",
    "tab_header.on_event('onChange', on_tab_change)    \n",
    "\n",
    "appBar = m.AppBar(position='static', children=[\n",
    "    tab_header\n",
    "])\n",
    "\n",
    "tabs = m.Html(tag='div', children=[\n",
    "    appBar,\n",
    "    m.Html(tag='div', style_={'padding': '24px'}, children='Item Two')\n",
    "])\n",
    "tabs"
   ]
  },
  {
   "cell_type": "code",
   "execution_count": null,
   "metadata": {},
   "outputs": [],
   "source": [
    "card_title = v.CardTitle(class_=\"headline\", children=[\"test\"])\n",
    "card_text = v.CardText(children=[\"text\"])\n",
    "dialog = v.Dialog(children=[card_title, card_text], v_model=\"dialog\")\n",
    "dialog"
   ]
  },
  {
   "cell_type": "code",
   "execution_count": null,
   "metadata": {},
   "outputs": [],
   "source": [
    "from ipyleaflet import Map, Marker\n",
    "\n",
    "center = (52.204793, 360.121558)\n",
    "\n",
    "m = Map(center=center, zoom=15)\n",
    "\n",
    "marker = Marker(location=center, draggable=True)\n",
    "m.add_layer(marker);\n",
    "\n",
    "display(m)\n",
    "\n",
    "# Now that the marker is on the Map, you can drag it with your mouse,\n",
    "# it will automatically update the `marker.location` attribute in Python\n",
    "\n",
    "# You can also update the marker location from Python, that will update the\n",
    "# marker location on the Map:\n",
    "marker.location = (50, 356)"
   ]
  },
  {
   "cell_type": "code",
   "execution_count": 54,
   "metadata": {},
   "outputs": [
    {
     "data": {
      "application/vnd.jupyter.widget-view+json": {
       "model_id": "b15df25c4fe84a698c53051353f00e88",
       "version_major": 2,
       "version_minor": 0
      },
      "text/plain": [
       "Map(center=[25, -115], controls=(ZoomControl(options=['position', 'zoom_in_text', 'zoom_in_title', 'zoom_out_t…"
      ]
     },
     "metadata": {},
     "output_type": "display_data"
    },
    {
     "data": {
      "application/vnd.jupyter.widget-view+json": {
       "model_id": "cb72067b6d6b46d78af4744131c6abcb",
       "version_major": 2,
       "version_minor": 0
      },
      "text/plain": [
       "Map(center=[25, -115], controls=(ZoomControl(options=['position', 'zoom_in_text', 'zoom_in_title', 'zoom_out_t…"
      ]
     },
     "metadata": {},
     "output_type": "display_data"
    }
   ],
   "source": [
    "from ipyleaflet import Map, VideoOverlay, ImageOverlay\n",
    "from io import StringIO\n",
    "from PIL import Image\n",
    "from osgeo import gdal\n",
    "\n",
    "im = Image.open(\"../data/61/outputs/results/Environment/Geospatial/p_QNITROgl/LVA/p_QNITROgl_irrigated.tif\")\n",
    "\n",
    "m = Map(center=(25, -115), zoom=4)\n",
    "# layer = m.load_raster(path=\"../data/61/outputs/results/Environment/Geospatial/p_QNITROgl/LVA/p_QNITROgl_irrigated.tif\")\n",
    "# m.add_layer(layer)\n",
    "\n",
    "dataset = gdal.Open(\"../data/61/outputs/results/Environment/Geospatial/p_QNITROgl/LVA/p_QNITROgl_irrigated.tif\")\n",
    "for x in range(1, dataset.RasterCount + 1):\n",
    "    band = dataset.GetRasterBand(x)\n",
    "    array = band.ReadAsArray()\n",
    "\n",
    "\n",
    "m = Map(center=(25, -115), zoom=4)\n",
    "# im =  ImageOverlay(url=\"p_QNITROgl_irrigated.jpg\")\n",
    "# im =  ImageOverlay(url=\"\\Users\\muhdr\\Documents\\simple-us\\simple-us\\dummy.png\")\n",
    "# im = ImageOverlay(url=\"file:///C:/Users/muhdr/Documents/simple-us/data/61/outputs/results/Environment/Geospatial/p_QNITROgl/LVA/p_QNITROgl_irrigated.tif\")\n",
    "# im = ImageOverlay(url=\"p_QNITROgl_irrigated.tif\")\n",
    "im = ImageOverlay(url=\"dummy.png\")\n",
    "m.add_layer(im)\n",
    "display(m)\n",
    "\n",
    "m2 = Map(center=(25, -115), zoom=4)\n",
    "\n",
    "image = ImageOverlay(\n",
    "    url=\"https://i.imgur.com/06Q1fSz.png\",\n",
    "    # url='../06Q1fSz.png',\n",
    "    bounds=((13, -130), (32, -100))\n",
    ")\n",
    "\n",
    "m2.add_layer(image);\n",
    "display(m2)\n"
   ]
  },
  {
   "cell_type": "code",
   "execution_count": 112,
   "metadata": {},
   "outputs": [
    {
     "data": {
      "image/png": "[encoded data removed]",
      "text/plain": [
       "<PIL.PngImagePlugin.PngImageFile image mode=RGB size=690x288 at 0x161D8888C48>"
      ]
     },
     "metadata": {},
     "output_type": "display_data"
    },
    {
     "data": {
      "text/plain": [
       "<matplotlib.image.AxesImage at 0x161d9990488>"
      ]
     },
     "execution_count": 112,
     "metadata": {},
     "output_type": "execute_result"
    },
    {
     "data": {
      "image/png": "[encoded data removed]",
      "text/plain": [
       "<Figure size 432x288 with 1 Axes>"
      ]
     },
     "metadata": {
      "needs_background": "light"
     },
     "output_type": "display_data"
    }
   ],
   "source": [
    "from matplotlib.pyplot import imshow\n",
    "%matplotlib inline\n",
    "\n",
    "from PIL import Image\n",
    "\n",
    "im = Image.open(\"p_QNITROgl_irrigated.png\")\n",
    "display(im)\n",
    "im = Image.open(\"p_QNITROgl_irrigated.tif\")\n",
    "imshow(im)"
   ]
  },
  {
   "cell_type": "code",
   "execution_count": 151,
   "metadata": {},
   "outputs": [
    {
     "ename": "ParserError",
     "evalue": "Error tokenizing data. C error: Expected 1 fields in line 12, saw 2\n",
     "output_type": "error",
     "traceback": [
      "\u001b[1;31m---------------------------------------------------------------------------\u001b[0m",
      "\u001b[1;31mParserError\u001b[0m                               Traceback (most recent call last)",
      "\u001b[1;32m<ipython-input-151-ffdeee0b0a61>\u001b[0m in \u001b[0;36m<module>\u001b[1;34m\u001b[0m\n\u001b[0;32m      1\u001b[0m \u001b[1;32mimport\u001b[0m \u001b[0mpandas\u001b[0m\u001b[1;33m\u001b[0m\u001b[1;33m\u001b[0m\u001b[0m\n\u001b[1;32m----> 2\u001b[1;33m \u001b[0mfile\u001b[0m \u001b[1;33m=\u001b[0m \u001b[0mpandas\u001b[0m\u001b[1;33m.\u001b[0m\u001b[0mread_csv\u001b[0m\u001b[1;33m(\u001b[0m\u001b[1;34m\"http://localhost:8888/files/p_CROPgl_irrigated.csv\"\u001b[0m\u001b[1;33m)\u001b[0m\u001b[1;33m\u001b[0m\u001b[1;33m\u001b[0m\u001b[0m\n\u001b[0m",
      "\u001b[1;32m~\\anaconda3\\envs\\simple-us-lab\\lib\\site-packages\\pandas\\io\\parsers.py\u001b[0m in \u001b[0;36mparser_f\u001b[1;34m(filepath_or_buffer, sep, delimiter, header, names, index_col, usecols, squeeze, prefix, mangle_dupe_cols, dtype, engine, converters, true_values, false_values, skipinitialspace, skiprows, skipfooter, nrows, na_values, keep_default_na, na_filter, verbose, skip_blank_lines, parse_dates, infer_datetime_format, keep_date_col, date_parser, dayfirst, cache_dates, iterator, chunksize, compression, thousands, decimal, lineterminator, quotechar, quoting, doublequote, escapechar, comment, encoding, dialect, error_bad_lines, warn_bad_lines, delim_whitespace, low_memory, memory_map, float_precision)\u001b[0m\n\u001b[0;32m    674\u001b[0m         )\n\u001b[0;32m    675\u001b[0m \u001b[1;33m\u001b[0m\u001b[0m\n\u001b[1;32m--> 676\u001b[1;33m         \u001b[1;32mreturn\u001b[0m \u001b[0m_read\u001b[0m\u001b[1;33m(\u001b[0m\u001b[0mfilepath_or_buffer\u001b[0m\u001b[1;33m,\u001b[0m \u001b[0mkwds\u001b[0m\u001b[1;33m)\u001b[0m\u001b[1;33m\u001b[0m\u001b[1;33m\u001b[0m\u001b[0m\n\u001b[0m\u001b[0;32m    677\u001b[0m \u001b[1;33m\u001b[0m\u001b[0m\n\u001b[0;32m    678\u001b[0m     \u001b[0mparser_f\u001b[0m\u001b[1;33m.\u001b[0m\u001b[0m__name__\u001b[0m \u001b[1;33m=\u001b[0m \u001b[0mname\u001b[0m\u001b[1;33m\u001b[0m\u001b[1;33m\u001b[0m\u001b[0m\n",
      "\u001b[1;32m~\\anaconda3\\envs\\simple-us-lab\\lib\\site-packages\\pandas\\io\\parsers.py\u001b[0m in \u001b[0;36m_read\u001b[1;34m(filepath_or_buffer, kwds)\u001b[0m\n\u001b[0;32m    452\u001b[0m \u001b[1;33m\u001b[0m\u001b[0m\n\u001b[0;32m    453\u001b[0m     \u001b[1;32mtry\u001b[0m\u001b[1;33m:\u001b[0m\u001b[1;33m\u001b[0m\u001b[1;33m\u001b[0m\u001b[0m\n\u001b[1;32m--> 454\u001b[1;33m         \u001b[0mdata\u001b[0m \u001b[1;33m=\u001b[0m \u001b[0mparser\u001b[0m\u001b[1;33m.\u001b[0m\u001b[0mread\u001b[0m\u001b[1;33m(\u001b[0m\u001b[0mnrows\u001b[0m\u001b[1;33m)\u001b[0m\u001b[1;33m\u001b[0m\u001b[1;33m\u001b[0m\u001b[0m\n\u001b[0m\u001b[0;32m    455\u001b[0m     \u001b[1;32mfinally\u001b[0m\u001b[1;33m:\u001b[0m\u001b[1;33m\u001b[0m\u001b[1;33m\u001b[0m\u001b[0m\n\u001b[0;32m    456\u001b[0m         \u001b[0mparser\u001b[0m\u001b[1;33m.\u001b[0m\u001b[0mclose\u001b[0m\u001b[1;33m(\u001b[0m\u001b[1;33m)\u001b[0m\u001b[1;33m\u001b[0m\u001b[1;33m\u001b[0m\u001b[0m\n",
      "\u001b[1;32m~\\anaconda3\\envs\\simple-us-lab\\lib\\site-packages\\pandas\\io\\parsers.py\u001b[0m in \u001b[0;36mread\u001b[1;34m(self, nrows)\u001b[0m\n\u001b[0;32m   1131\u001b[0m     \u001b[1;32mdef\u001b[0m \u001b[0mread\u001b[0m\u001b[1;33m(\u001b[0m\u001b[0mself\u001b[0m\u001b[1;33m,\u001b[0m \u001b[0mnrows\u001b[0m\u001b[1;33m=\u001b[0m\u001b[1;32mNone\u001b[0m\u001b[1;33m)\u001b[0m\u001b[1;33m:\u001b[0m\u001b[1;33m\u001b[0m\u001b[1;33m\u001b[0m\u001b[0m\n\u001b[0;32m   1132\u001b[0m         \u001b[0mnrows\u001b[0m \u001b[1;33m=\u001b[0m \u001b[0m_validate_integer\u001b[0m\u001b[1;33m(\u001b[0m\u001b[1;34m\"nrows\"\u001b[0m\u001b[1;33m,\u001b[0m \u001b[0mnrows\u001b[0m\u001b[1;33m)\u001b[0m\u001b[1;33m\u001b[0m\u001b[1;33m\u001b[0m\u001b[0m\n\u001b[1;32m-> 1133\u001b[1;33m         \u001b[0mret\u001b[0m \u001b[1;33m=\u001b[0m \u001b[0mself\u001b[0m\u001b[1;33m.\u001b[0m\u001b[0m_engine\u001b[0m\u001b[1;33m.\u001b[0m\u001b[0mread\u001b[0m\u001b[1;33m(\u001b[0m\u001b[0mnrows\u001b[0m\u001b[1;33m)\u001b[0m\u001b[1;33m\u001b[0m\u001b[1;33m\u001b[0m\u001b[0m\n\u001b[0m\u001b[0;32m   1134\u001b[0m \u001b[1;33m\u001b[0m\u001b[0m\n\u001b[0;32m   1135\u001b[0m         \u001b[1;31m# May alter columns / col_dict\u001b[0m\u001b[1;33m\u001b[0m\u001b[1;33m\u001b[0m\u001b[1;33m\u001b[0m\u001b[0m\n",
      "\u001b[1;32m~\\anaconda3\\envs\\simple-us-lab\\lib\\site-packages\\pandas\\io\\parsers.py\u001b[0m in \u001b[0;36mread\u001b[1;34m(self, nrows)\u001b[0m\n\u001b[0;32m   2035\u001b[0m     \u001b[1;32mdef\u001b[0m \u001b[0mread\u001b[0m\u001b[1;33m(\u001b[0m\u001b[0mself\u001b[0m\u001b[1;33m,\u001b[0m \u001b[0mnrows\u001b[0m\u001b[1;33m=\u001b[0m\u001b[1;32mNone\u001b[0m\u001b[1;33m)\u001b[0m\u001b[1;33m:\u001b[0m\u001b[1;33m\u001b[0m\u001b[1;33m\u001b[0m\u001b[0m\n\u001b[0;32m   2036\u001b[0m         \u001b[1;32mtry\u001b[0m\u001b[1;33m:\u001b[0m\u001b[1;33m\u001b[0m\u001b[1;33m\u001b[0m\u001b[0m\n\u001b[1;32m-> 2037\u001b[1;33m             \u001b[0mdata\u001b[0m \u001b[1;33m=\u001b[0m \u001b[0mself\u001b[0m\u001b[1;33m.\u001b[0m\u001b[0m_reader\u001b[0m\u001b[1;33m.\u001b[0m\u001b[0mread\u001b[0m\u001b[1;33m(\u001b[0m\u001b[0mnrows\u001b[0m\u001b[1;33m)\u001b[0m\u001b[1;33m\u001b[0m\u001b[1;33m\u001b[0m\u001b[0m\n\u001b[0m\u001b[0;32m   2038\u001b[0m         \u001b[1;32mexcept\u001b[0m \u001b[0mStopIteration\u001b[0m\u001b[1;33m:\u001b[0m\u001b[1;33m\u001b[0m\u001b[1;33m\u001b[0m\u001b[0m\n\u001b[0;32m   2039\u001b[0m             \u001b[1;32mif\u001b[0m \u001b[0mself\u001b[0m\u001b[1;33m.\u001b[0m\u001b[0m_first_chunk\u001b[0m\u001b[1;33m:\u001b[0m\u001b[1;33m\u001b[0m\u001b[1;33m\u001b[0m\u001b[0m\n",
      "\u001b[1;32mpandas\\_libs\\parsers.pyx\u001b[0m in \u001b[0;36mpandas._libs.parsers.TextReader.read\u001b[1;34m()\u001b[0m\n",
      "\u001b[1;32mpandas\\_libs\\parsers.pyx\u001b[0m in \u001b[0;36mpandas._libs.parsers.TextReader._read_low_memory\u001b[1;34m()\u001b[0m\n",
      "\u001b[1;32mpandas\\_libs\\parsers.pyx\u001b[0m in \u001b[0;36mpandas._libs.parsers.TextReader._read_rows\u001b[1;34m()\u001b[0m\n",
      "\u001b[1;32mpandas\\_libs\\parsers.pyx\u001b[0m in \u001b[0;36mpandas._libs.parsers.TextReader._tokenize_rows\u001b[1;34m()\u001b[0m\n",
      "\u001b[1;32mpandas\\_libs\\parsers.pyx\u001b[0m in \u001b[0;36mpandas._libs.parsers.raise_parser_error\u001b[1;34m()\u001b[0m\n",
      "\u001b[1;31mParserError\u001b[0m: Error tokenizing data. C error: Expected 1 fields in line 12, saw 2\n"
     ]
    }
   ],
   "source": [
    "import pandas\n",
    "file = pandas.read_csv(\"http://localhost:8888/files/p_CROPgl_irrigated.csv\")\n"
   ]
  }
 ],
 "metadata": {
  "kernelspec": {
   "display_name": "Python 3",
   "language": "python",
   "name": "python3"
  },
  "language_info": {
   "codemirror_mode": {
    "name": "ipython",
    "version": 3
   },
   "file_extension": ".py",
   "mimetype": "text/x-python",
   "name": "python",
   "nbconvert_exporter": "python",
   "pygments_lexer": "ipython3",
   "version": "3.7.6"
  }
 },
 "nbformat": 4,
 "nbformat_minor": 4
}
