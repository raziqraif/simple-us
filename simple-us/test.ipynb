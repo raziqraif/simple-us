{
 "cells": [
  {
   "cell_type": "code",
   "execution_count": 1,
   "metadata": {},
   "outputs": [],
   "source": [
    "%load_ext autoreload\n",
    "%autoreload 2"
   ]
  },
  {
   "cell_type": "code",
   "execution_count": 2,
   "metadata": {},
   "outputs": [
    {
     "data": {
      "application/vnd.jupyter.widget-view+json": {
       "model_id": "f978748d9b14488aa456876430a4b032",
       "version_major": 2,
       "version_minor": 0
      },
      "text/plain": [
       "Output(layout=Layout(border='100px solid black'))"
      ]
     },
     "metadata": {},
     "output_type": "display_data"
    }
   ],
   "source": [
    "import ipywidgets as ipyw\n",
    "out = ipyw.Output(layout={'border': '100px solid black'})\n",
    "out"
   ]
  },
  {
   "cell_type": "code",
   "execution_count": 3,
   "metadata": {},
   "outputs": [
    {
     "data": {
      "application/vnd.jupyter.widget-view+json": {
       "model_id": "d99972f0204e4216bce23543750fd4e0",
       "version_major": 2,
       "version_minor": 0
      },
      "text/plain": [
       "HBox(children=(HTML(value='Label:', layout=Layout(width='100px')), WrappedToggles(layout=Layout(width='400px')…"
      ]
     },
     "metadata": {},
     "output_type": "display_data"
    }
   ],
   "source": [
    "import ipywidgets as ipyw\n",
    "\n",
    "label_layout = ipyw.Layout(width='100px')\n",
    "\n",
    "class WrappedToggles(ipyw.HBox):\n",
    "    \n",
    "    def __init__(self):\n",
    "        layout = ipyw.Layout(width='400px')\n",
    "        super().__init__(options=['1','2'], layout=layout)\n",
    "\n",
    "    def _ipython_display_(self, **kwargs):\n",
    "        label = 'Label:'\n",
    "        box_label = ipyw.HTML(value=label, layout=label_layout)\n",
    "        children = (box_label, self)\n",
    "        ipyw.HBox(children=children)._ipython_display_()\n",
    "# Can pass to children\n",
    "# Can disable sync and link two widgets together\n",
    "WrappedToggles()"
   ]
  },
  {
   "cell_type": "code",
   "execution_count": null,
   "metadata": {},
   "outputs": [],
   "source": []
  },
  {
   "cell_type": "code",
   "execution_count": 2,
   "metadata": {},
   "outputs": [
    {
     "data": {
      "text/html": [
       "<h1>test</h1>"
      ],
      "text/plain": [
       "<__main__.Shout at 0x2354da5e648>"
      ]
     },
     "execution_count": 2,
     "metadata": {},
     "output_type": "execute_result"
    }
   ],
   "source": [
    "class Shout(object):\n",
    "    def __init__(self, text):\n",
    "        self.text = text\n",
    "\n",
    "    def _repr_html_(self):\n",
    "        return \"<h1>\" + self.text + \"</h1>\"\n",
    "Shout(\"test\")"
   ]
  },
  {
   "cell_type": "code",
   "execution_count": 1,
   "metadata": {},
   "outputs": [
    {
     "data": {
      "application/vnd.jupyter.widget-view+json": {
       "model_id": "0492ba048cf9482e822f8150e678e02e",
       "version_major": 2,
       "version_minor": 0
      },
      "text/plain": [
       "IntMultipliedDropdown(children=(IntText(value=1), Dropdown(index=2, options=('apple', 'bed', 'cell'), value='c…"
      ]
     },
     "metadata": {},
     "output_type": "display_data"
    }
   ],
   "source": [
    "import re\n",
    "import ipywidgets as ipw\n",
    "from traitlets import Unicode\n",
    "from IPython.display import display\n",
    "\n",
    "\n",
    "class IntMultipliedDropdown(ipw.HBox):\n",
    "    _VALUE_PATTERN = re.compile('(?P<num>\\d+) (?P<option>\\w+-?\\w*)')\n",
    "    value = Unicode()\n",
    "\n",
    "    def __init__(self, options, option_value, int_value=1, **kwargs):\n",
    "        self.number = ipw.IntText(int_value)\n",
    "        self.options = ipw.Dropdown(options=options, value=option_value)\n",
    "\n",
    "        self._update_value()\n",
    "\n",
    "        self.number.observe(self._update_value, names='value')\n",
    "        self.options.observe(self._update_value, names='value')\n",
    "        self.observe(self._update_children, names='value')\n",
    "\n",
    "        super().__init__(children=[self.number, self.options], **kwargs)\n",
    "\n",
    "\n",
    "    def _update_children(self, *args):\n",
    "        match = re.search(self._VALUE_PATTERN, self.value)\n",
    "        groupdict = match.groupdict()\n",
    "        self.number.value = groupdict['num']\n",
    "        self.options.value = groupdict['option']\n",
    "\n",
    "    def _update_value(self, *args):\n",
    "        self.value = \"{} {}\".format(self.number.value, self.options.value)\n",
    "\n",
    "mywidget = IntMultipliedDropdown(['apple', 'bed', 'cell'], 'cell')\n",
    "display(mywidget)"
   ]
  },
  {
   "cell_type": "code",
   "execution_count": 9,
   "metadata": {},
   "outputs": [
    {
     "data": {
      "application/vnd.jupyter.widget-view+json": {
       "model_id": "dcf993c98d274d899d9d7ce60c256395",
       "version_major": 2,
       "version_minor": 0
      },
      "text/plain": [
       "Tab(children=(VBox(children=(Accordion(children=(FileUpload(value={}, description='Upload'), VBox(children=(Ra…"
      ]
     },
     "metadata": {},
     "output_type": "display_data"
    }
   ],
   "source": [
    "import pandas as pd\n",
    "import sys\n",
    "from io import StringIO\n",
    "import numpy as np\n",
    "import ipywidgets as widgets\n",
    "import matplotlib.pyplot as plt\n",
    "%matplotlib inline\n",
    "tab = widgets.Tab()    \n",
    "out = widgets.Output(layout={'border': '1px solid black'})\n",
    "up = widgets.FileUpload(accept=\"\", multiple=False)\n",
    "delim = widgets.RadioButtons(\n",
    "    options=[';', ',', ' '],\n",
    "    description='Separator: ',\n",
    "    disabled=False)\n",
    "eraser = widgets.SelectMultiple(\n",
    "    options=['tab','\"'],\n",
    "    value=['tab'],\n",
    "    #rows=10,\n",
    "    description='Eraser: ',\n",
    "    disabled=False)\n",
    "rows = widgets.IntSlider(\n",
    "    value=0,\n",
    "    step=1,\n",
    "    description='# of lines:',\n",
    "    disabled=False,\n",
    "    continuous_update=False,\n",
    "    orientation='horizontal',\n",
    "    readout=True,\n",
    "    readout_format='d')\n",
    "button_upload = widgets.Button(\n",
    "    description='Upload',\n",
    "    disabled=False,\n",
    "    button_style='warning',\n",
    "    tooltip='Click to Upload',\n",
    "    icon='check')\n",
    "button_preview = widgets.Button(\n",
    "    description='Preview',\n",
    "    disabled=False,\n",
    "    button_style='info',\n",
    "    tooltip='Click to Preview',\n",
    "    icon='search')\n",
    "button_plot = widgets.Button(\n",
    "    description='Plot',\n",
    "    disabled=False,\n",
    "    button_style='danger',\n",
    "    tooltip='Click to Plot',\n",
    "    icon='pencil')\n",
    "graph_type = widgets.Dropdown(\n",
    "    options=['Bar Chart', 'Line Chart'],\n",
    "    value='Bar Chart',\n",
    "    description='Chart Type:',\n",
    "    disabled=False)\n",
    "x_axis = widgets.Dropdown(\n",
    "    options=[''],\n",
    "    value='',\n",
    "    description='X-Axis:',\n",
    "    disabled=False)\n",
    "y_axis = widgets.Dropdown(\n",
    "    options=[''],\n",
    "    value='',\n",
    "    description='Y-Axis:',\n",
    "    disabled=False)\n",
    "color_picker = widgets.ColorPicker(\n",
    "    concise=False,\n",
    "    description='Color Picker: ',\n",
    "    value='lightblue',\n",
    "    disabled=False)\n",
    "toggle = widgets.ToggleButtons(\n",
    "    options=['Preview  ', 'Info  ', 'Stats  '],\n",
    "    description='Options',\n",
    "    disabled=False,\n",
    "    button_style='warning',\n",
    "    icons=['search', 'info', 'tachometer'])\n",
    "accordion = widgets.Accordion(children=[\n",
    "    up, \n",
    "    widgets.VBox([delim, eraser]), \n",
    "    rows])\n",
    "accordion.set_title(0, 'File Selection')\n",
    "accordion.set_title(1, 'Delimiter')\n",
    "accordion.set_title(2, 'Skip Rows')\n",
    "accordion_box = widgets.VBox([\n",
    "    accordion, \n",
    "    widgets.HBox([button_preview, button_upload]),\n",
    "    out\n",
    "])\n",
    "children = [\n",
    "    accordion_box, \n",
    "    widgets.VBox([toggle, out]),\n",
    "    widgets.VBox([\n",
    "        widgets.HBox([graph_type, color_picker]),\n",
    "        widgets.HBox([x_axis, y_axis]), \n",
    "        button_plot,\n",
    "        out\n",
    "])]\n",
    "tab.children = children\n",
    "tab.set_title(0, \"Upload\")\n",
    "tab.set_title(1, \"Describer\")\n",
    "tab.set_title(2, \"Plotter\")\n",
    "tab\n",
    "def content_parser():\n",
    "    if up.value == {}:\n",
    "        with out:\n",
    "            print('No CSV loaded')    \n",
    "    else:\n",
    "        typ, content = \"\", \"\"\n",
    "        up_value = up.value\n",
    "        for i in up_value.keys():\n",
    "#             typ = up_value[i][\"metadata\"][\"type\"] if typ == \"text/csv\":\n",
    "            content = up_value[i][\"content\"]\n",
    "            content_str = str(content, 'utf-8')\n",
    "    \n",
    "            if eraser.value != {}: \n",
    "                for val in eraser.value:\n",
    "                    if val == \"tab\":\n",
    "                        content_str = content_str.replace(\"\\t\",\"\")\n",
    "                    else:\n",
    "                        content_str = content_str.replace(val,\"\")\n",
    "            if content_str != \"\":\n",
    "                str_io = StringIO(content_str) \n",
    "                return str_io\n",
    "def df_converter():\n",
    "    content = content_parser()\n",
    "    if content is not None:\n",
    "        df = pd.read_csv(content, sep=delim.value, index_col=False, skiprows=rows.value)    \n",
    "        return df\n",
    "    else:\n",
    "        return None\n",
    "def preview():\n",
    "    df = df_converter()\n",
    "    with out:\n",
    "        out.clear_output()\n",
    "        print('\\n -----Now this is how your DF looks like:----- \\n')\n",
    "        if df is not None:\n",
    "            print(df.head(10))\n",
    "        else:\n",
    "            print('Configuration is wrong/missing...')\n",
    "def upload():\n",
    "    df = df_converter()\n",
    "    with out:\n",
    "        out.clear_output()\n",
    "        print('\\n --------Your uploaded DF looks like:-------- \\n')\n",
    "        if df is not None:\n",
    "            print(df)\n",
    "            x_axis.options = df.columns\n",
    "            y_axis.options = df.columns\n",
    "        else:\n",
    "            print('Configuration is wrong/missing...')\n",
    "def desc():\n",
    "    info_level = toggle.value\n",
    "    if info_level != {}:\n",
    "        df = df_converter()\n",
    "        with out:\n",
    "            out.clear_output()\n",
    "            print('\\n ------Your {} looks like:------ \\n'.format(\n",
    "                info_level))\n",
    "            if df is not None:\n",
    "                if info_level == 'Info  ':\n",
    "                    print(df.info(verbose=True))\n",
    "                elif info_level == 'Stats  ':\n",
    "                    print(df.describe())\n",
    "                elif info_level == 'Preview  ':\n",
    "                    print(df.head(5))\n",
    "                else:\n",
    "                    print('Configuration is wrong/missing...')\n",
    "    \n",
    "    \n",
    "def plot():\n",
    "    graph = graph_type.value\n",
    "    if graph != {}:\n",
    "        df = df_converter()\n",
    "        with out:\n",
    "            out.clear_output()\n",
    "            print('\\n ------Your {} looks like:------ \\n'.format(\n",
    "                graph))\n",
    "            if (df is not None):\n",
    "                df = df.head(5)\n",
    "                height = df[y_axis.value]\n",
    "                bars = df[x_axis.value]\n",
    "                y_pos = np.arange(len(height))\n",
    "                plt.figure(figsize=(10,4))\n",
    "                if graph == 'Bar Chart':\n",
    "                    plt.bar(\n",
    "                        y_pos, \n",
    "                        height, \n",
    "                        color=color_picker.value)\n",
    "                    plt.xticks(y_pos, bars)\n",
    "                elif graph == 'Line Chart':\n",
    "                    plt.plot(\n",
    "                        bars,\n",
    "                        height, \n",
    "                        color=color_picker.value,\n",
    "                        marker='o', \n",
    "                        linestyle='solid'\n",
    "                    )\n",
    "                    plt.xticks(bars)\n",
    "                plt.show()\n",
    "                \n",
    "def preview_clicked(b):\n",
    "    preview()\n",
    "def upload_clicked(b):\n",
    "    upload()\n",
    "def desc_clicked(b):\n",
    "    desc()\n",
    "def plotter_clicked(b):\n",
    "    plot()\n",
    "    \n",
    "button_preview.on_click(preview_clicked)\n",
    "button_upload.on_click(upload_clicked)\n",
    "toggle.observe(desc_clicked, 'value')\n",
    "button_plot.on_click(plotter_clicked)\n",
    "tab"
   ]
  },
  {
   "cell_type": "code",
   "execution_count": 5,
   "metadata": {
    "scrolled": true
   },
   "outputs": [
    {
     "data": {
      "application/vnd.jupyter.widget-view+json": {
       "model_id": "f5c95287a98d44f98b174d300e7935a1",
       "version_major": 2,
       "version_minor": 0
      },
      "text/plain": [
       "Accordion(children=(VBox(layout=Layout(max_width='610px', min_width='610px')),), layout=Layout(max_height='500…"
      ]
     },
     "metadata": {},
     "output_type": "display_data"
    },
    {
     "ename": "NameError",
     "evalue": "name 'Javascript' is not defined",
     "output_type": "error",
     "traceback": [
      "\u001b[1;31m---------------------------------------------------------------------------\u001b[0m",
      "\u001b[1;31mNameError\u001b[0m                                 Traceback (most recent call last)",
      "\u001b[1;32m<ipython-input-5-54cee086fdb6>\u001b[0m in \u001b[0;36m<module>\u001b[1;34m\u001b[0m\n\u001b[0;32m     12\u001b[0m     \u001b[0mdisplay\u001b[0m\u001b[1;33m(\u001b[0m\u001b[0macc\u001b[0m\u001b[1;33m)\u001b[0m\u001b[1;33m\u001b[0m\u001b[1;33m\u001b[0m\u001b[0m\n\u001b[0;32m     13\u001b[0m     \u001b[0macc\u001b[0m\u001b[1;33m.\u001b[0m\u001b[0m_dom_classes\u001b[0m \u001b[1;33m=\u001b[0m \u001b[1;33m[\u001b[0m\u001b[1;34m'job_widget'\u001b[0m\u001b[1;33m]\u001b[0m\u001b[1;33m\u001b[0m\u001b[1;33m\u001b[0m\u001b[0m\n\u001b[1;32m---> 14\u001b[1;33m     display(Javascript(\"\"\"$('div.job_widget')\n\u001b[0m\u001b[0;32m     15\u001b[0m         \u001b[1;33m.\u001b[0m\u001b[0mdetach\u001b[0m\u001b[1;33m(\u001b[0m\u001b[1;33m)\u001b[0m\u001b[1;33m\u001b[0m\u001b[1;33m\u001b[0m\u001b[0m\n\u001b[0;32m     16\u001b[0m         \u001b[1;33m.\u001b[0m\u001b[0mappendTo\u001b[0m\u001b[1;33m(\u001b[0m\u001b[0;31m$\u001b[0m\u001b[1;33m(\u001b[0m\u001b[1;34m'#header'\u001b[0m\u001b[1;33m)\u001b[0m\u001b[1;33m)\u001b[0m\u001b[1;33m\u001b[0m\u001b[1;33m\u001b[0m\u001b[0m\n",
      "\u001b[1;31mNameError\u001b[0m: name 'Javascript' is not defined"
     ]
    }
   ],
   "source": [
    "if 1:\n",
    "    acc = widgets.Accordion(children=[widgets.VBox(layout=widgets.Layout(max_width='610px',\n",
    "                                                                         min_width='610px'))],\n",
    "                            layout=widgets.Layout(width='auto',\n",
    "                                                  max_width='650px',\n",
    "                                                  max_height='500px',\n",
    "                                                  overflow_y='scroll',\n",
    "                                                  overflow_x='hidden'))\n",
    "    acc.set_title(0, 'IBMQ Jobs')\n",
    "    acc.selected_index = None\n",
    "    acc.layout.visibility = 'hidden'\n",
    "    display(acc)\n",
    "    acc._dom_classes = ['job_widget']\n",
    "    display(Javascript(\"\"\"$('div.job_widget')\n",
    "        .detach()\n",
    "        .appendTo($('#header'))\n",
    "        .css({\n",
    "            'z-index': 999,\n",
    "             'position': 'fixed',\n",
    "            'box-shadow': '5px 5px 5px -3px black',\n",
    "            'opacity': 0.95,\n",
    "            'float': 'left,'\n",
    "        })\n",
    "        \"\"\"))\n",
    "    acc.layout.visibility = 'visible'\n"
   ]
  },
  {
   "cell_type": "code",
   "execution_count": 8,
   "metadata": {},
   "outputs": [
    {
     "data": {
      "application/javascript": [
       "def modal_dialog(self,title,body):\n",
       "    data = \"\"\"\n",
       "        require(\n",
       "            [\"base/js/dialog\"],\n",
       "            function(dialog) {\n",
       "                dialog.modal({\n",
       "                    title: '%s',\n",
       "                    body: '%s',\n",
       "                    sanitize: false,\n",
       "                    buttons: {\n",
       "                        'Close': {}\n",
       "                    }\n",
       "                });\n",
       "            }\n",
       "        )\n",
       "     \"\"\" % (title,body)\n",
       "\n",
       "display.display(Javascript(data=data,css='modal.css'))\n"
      ],
      "text/plain": [
       "<IPython.core.display.Javascript object>"
      ]
     },
     "metadata": {},
     "output_type": "display_data"
    }
   ],
   "source": [
    "%%javascript\n",
    "def modal_dialog(self,title,body):\n",
    "    data = \"\"\"\n",
    "        require(\n",
    "            [\"base/js/dialog\"],\n",
    "            function(dialog) {\n",
    "                dialog.modal({\n",
    "                    title: '%s',\n",
    "                    body: '%s',\n",
    "                    sanitize: false,\n",
    "                    buttons: {\n",
    "                        'Close': {}\n",
    "                    }\n",
    "                });\n",
    "            }\n",
    "        )\n",
    "     \"\"\" % (title,body)\n",
    "\n",
    "display.display(Javascript(data=data,css='modal.css'))\n"
   ]
  }
 ],
 "metadata": {
  "kernelspec": {
   "display_name": "Python 3",
   "language": "python",
   "name": "python3"
  },
  "language_info": {
   "codemirror_mode": {
    "name": "ipython",
    "version": 3
   },
   "file_extension": ".py",
   "mimetype": "text/x-python",
   "name": "python",
   "nbconvert_exporter": "python",
   "pygments_lexer": "ipython3",
   "version": "3.7.6"
  }
 },
 "nbformat": 4,
 "nbformat_minor": 4
}
