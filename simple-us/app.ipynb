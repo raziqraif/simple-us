{
 "cells": [
  {
   "cell_type": "code",
   "execution_count": 68,
   "metadata": {},
   "outputs": [
    {
     "name": "stdout",
     "output_type": "stream",
     "text": [
      "The autoreload extension is already loaded. To reload it, use:\n",
      "  %reload_ext autoreload\n"
     ]
    }
   ],
   "source": [
    "%load_ext autoreload\n",
    "%autoreload 2"
   ]
  },
  {
   "cell_type": "code",
   "execution_count": 10,
   "metadata": {},
   "outputs": [],
   "source": [
    "import ipywidgets as widgets\n",
    "from ipywidgets import Box\n",
    "from ipywidgets import Tab\n",
    "\n",
    "from experiments import Experiments"
   ]
  },
  {
   "cell_type": "code",
   "execution_count": 11,
   "metadata": {},
   "outputs": [],
   "source": [
    "class App(Tab):\n",
    "    def __init__(self):\n",
    "        super(Tab, self).__init__()\n",
    "        \n",
    "        # TODO: Replace these with proper widgets.\n",
    "        self.experiment = Experiments()\n",
    "        self.view = Box()\n",
    "        self.about = Box()\n",
    "\n",
    "        self.children = [\n",
    "            self.experiment,\n",
    "            self.view,\n",
    "            self.about\n",
    "        ]\n",
    "        self.set_title(0, \"Experiments\")\n",
    "        self.set_title(1, \"View\")\n",
    "        self.set_title(2, \"About\")\n",
    "        "
   ]
  },
  {
   "cell_type": "code",
   "execution_count": 13,
   "metadata": {},
   "outputs": [
    {
     "data": {
      "application/vnd.jupyter.widget-view+json": {
       "model_id": "90a54bece2c741f5a5f0a12b81c7f57c",
       "version_major": 2,
       "version_minor": 0
      },
      "text/plain": [
       "App(children=(Experiments(), Box(), Box()), _titles={'0': 'Experiments', '1': 'View', '2': 'About'})"
      ]
     },
     "metadata": {},
     "output_type": "display_data"
    }
   ],
   "source": [
    "App()"
   ]
  },
  {
   "cell_type": "code",
   "execution_count": 86,
   "metadata": {},
   "outputs": [],
   "source": [
    "import ipymaterialui as mui\n",
    "import ipywidgets as widgets"
   ]
  }
 ],
 "metadata": {
  "kernelspec": {
   "display_name": "Python 3",
   "language": "python",
   "name": "python3"
  },
  "language_info": {
   "codemirror_mode": {
    "name": "ipython",
    "version": 3
   },
   "file_extension": ".py",
   "mimetype": "text/x-python",
   "name": "python",
   "nbconvert_exporter": "python",
   "pygments_lexer": "ipython3",
   "version": "3.7.6"
  }
 },
 "nbformat": 4,
 "nbformat_minor": 4
}
